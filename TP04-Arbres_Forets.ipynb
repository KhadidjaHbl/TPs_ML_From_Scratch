{
 "cells": [
  {
   "cell_type": "markdown",
   "metadata": {},
   "source": [
    "# TP04 : Arbres de décision et Forêts aléatoires\n",
    "\n",
    "\n",
    "## I. Implémentation\n",
    "\n",
    "Binome 1 : HABELHAMES Khadidja\n",
    "\n",
    "Binome 2 : AIT ABDERAHIM Hamou\n",
    "\n",
    "Groupe : SIL2\n",
    "\n",
    "Il existe plusieurs implémentations des arbres de décision :\n",
    "- ID3 (Iterative Dichotomiser 3): dévelopé en 1986 par Ross Quinlan. Il peut être appliqué seulement sur les caractéristiques nominales. Il est utilisé pour le classement.\n",
    "- C4.5: une extension de ID3 par Ross Quinlan. Il peut être appliqué sur tous les types de caractéristiques. Il est utilisé pour le classement.\n",
    "- C5.0: une extension commerciale de C4.5, toujours par Ross Quinlan.\n",
    "- CART (Classification and Regression Trees): comme C4.5 mais utilise d'autres métriques. Aussi, l'algorithme supporte la régression.\n",
    "\n",
    "Dans ce TP, on va implémenter ID3 pour les caracéristiques nominales et CART (classement) pour les caracéristiques numériques seulement .\n",
    "\n",
    "### I.1. ID3\n",
    "\n",
    "Ici, on va implémenter l'algorithme vu dans le cours. On va utiliser le dataset \"jouer (nominales)\" "
   ]
  },
  {
   "cell_type": "code",
   "execution_count": 2,
   "metadata": {},
   "outputs": [
    {
     "data": {
      "text/html": [
       "<div>\n",
       "<style scoped>\n",
       "    .dataframe tbody tr th:only-of-type {\n",
       "        vertical-align: middle;\n",
       "    }\n",
       "\n",
       "    .dataframe tbody tr th {\n",
       "        vertical-align: top;\n",
       "    }\n",
       "\n",
       "    .dataframe thead th {\n",
       "        text-align: right;\n",
       "    }\n",
       "</style>\n",
       "<table border=\"1\" class=\"dataframe\">\n",
       "  <thead>\n",
       "    <tr style=\"text-align: right;\">\n",
       "      <th></th>\n",
       "      <th>temps</th>\n",
       "      <th>temperature</th>\n",
       "      <th>humidite</th>\n",
       "      <th>vent</th>\n",
       "      <th>jouer</th>\n",
       "    </tr>\n",
       "  </thead>\n",
       "  <tbody>\n",
       "    <tr>\n",
       "      <th>0</th>\n",
       "      <td>ensoleile</td>\n",
       "      <td>chaude</td>\n",
       "      <td>haute</td>\n",
       "      <td>non</td>\n",
       "      <td>non</td>\n",
       "    </tr>\n",
       "    <tr>\n",
       "      <th>1</th>\n",
       "      <td>ensoleile</td>\n",
       "      <td>chaude</td>\n",
       "      <td>haute</td>\n",
       "      <td>oui</td>\n",
       "      <td>non</td>\n",
       "    </tr>\n",
       "    <tr>\n",
       "      <th>2</th>\n",
       "      <td>nuageux</td>\n",
       "      <td>chaude</td>\n",
       "      <td>haute</td>\n",
       "      <td>non</td>\n",
       "      <td>oui</td>\n",
       "    </tr>\n",
       "    <tr>\n",
       "      <th>3</th>\n",
       "      <td>pluvieux</td>\n",
       "      <td>douce</td>\n",
       "      <td>haute</td>\n",
       "      <td>non</td>\n",
       "      <td>oui</td>\n",
       "    </tr>\n",
       "    <tr>\n",
       "      <th>4</th>\n",
       "      <td>pluvieux</td>\n",
       "      <td>fraiche</td>\n",
       "      <td>normale</td>\n",
       "      <td>non</td>\n",
       "      <td>oui</td>\n",
       "    </tr>\n",
       "  </tbody>\n",
       "</table>\n",
       "</div>"
      ],
      "text/plain": [
       "       temps temperature humidite vent jouer\n",
       "0  ensoleile      chaude    haute  non   non\n",
       "1  ensoleile      chaude    haute  oui   non\n",
       "2    nuageux      chaude    haute  non   oui\n",
       "3   pluvieux       douce    haute  non   oui\n",
       "4   pluvieux     fraiche  normale  non   oui"
      ]
     },
     "execution_count": 2,
     "metadata": {},
     "output_type": "execute_result"
    }
   ],
   "source": [
    "import numpy as np\n",
    "import pandas as pd \n",
    "import matplotlib.pyplot as plt \n",
    "%matplotlib inline\n",
    "\n",
    "from google.colab import files\n",
    "uploaded = files.upload()\n",
    "\n",
    "import io\n",
    "jouer = pd.read_csv(io.BytesIO(uploaded['jouer.csv']))\n",
    "\n",
    "\n",
    "# jouer = pd.read_csv(\"datasets/jouer.csv\")\n",
    "\n",
    "X_jouer = jouer.iloc[:, :-1].values # Premières colonnes \n",
    "Y_jouer = jouer.iloc[:,-1].values # Dernière colonne \n",
    "\n",
    "# Afficher le dataset \"jouer\"\n",
    "jouer.head()"
   ]
  },
  {
   "cell_type": "markdown",
   "metadata": {},
   "source": [
    "#### I.1.1. Probabilité \n",
    "\n",
    "Etant donné une liste des valeurs $S$, la probabilité d'occurence d'une valeur $v$  est le nombre d'occurence de $v$ dans $S$ divisé par le nombre total des éléments de $S$. \n",
    "\n",
    "$$p(v/S) = \\frac{|\\{x / x \\in S \\text{ et } x = v\\}|}{|S|}$$\n",
    "\n",
    "Exemple, prenons la colonne \"jouer\". \n",
    "Le nombre de \"oui\" est 9 et le nombre total est 14. \n",
    "$$p(jouer=oui) = \\frac{9}{14} = 0.6428571428571429$$"
   ]
  },
  {
   "cell_type": "code",
   "execution_count": 2,
   "metadata": {},
   "outputs": [
    {
     "data": {
      "text/plain": [
       "(0.6428571428571429,\n",
       " 0.35714285714285715,\n",
       " 0.2857142857142857,\n",
       " 0.35714285714285715)"
      ]
     },
     "execution_count": 2,
     "metadata": {},
     "output_type": "execute_result"
    }
   ],
   "source": [
    "# TODO calculer la probabilité d'occurence d'une valeur val dans un ensemble S\n",
    "# PS: si la division retourne toujours 0, essayer d'appliquer float(x) sur le numérateur ou le dénominateur\n",
    "def P(S, v):\n",
    "    frequency = 0\n",
    "    for element in S:\n",
    "        if element == v:\n",
    "            frequency += 1\n",
    "    return frequency/len(S)\n",
    "\n",
    "#=====================================================================\n",
    "# TEST UNITAIRE\n",
    "#=====================================================================\n",
    "# Resultat : \n",
    "# (0.6428571428571429,\n",
    "#  0.35714285714285715,\n",
    "#  0.2857142857142857,\n",
    "#  0.35714285714285715)\n",
    "#---------------------------------------------------------------------\n",
    "\n",
    "P(Y_jouer, \"oui\"), P(X_jouer[:,0], \"ensoleile\"), P(X_jouer[:, 0], \"nuageux\"), P(X_jouer[:,0], \"pluvieux\")"
   ]
  },
  {
   "cell_type": "markdown",
   "metadata": {},
   "source": [
    "#### I.1.2. Incertitude d'un ensemble\n",
    "\n",
    "L'entropie de Shannon correspond à la quantité d'information contenue dans une source d'information ; plus la source émet d'informations différentes, plus l'entropie (ou l'incertitude sur ce que la source émet) est grande.\n",
    "Donc, un ensemble avec une entropie de 0 contient les mêmes valeurs.\n",
    "Etant donné : \n",
    "- $S$ une liste des valeurs \n",
    "- $V$ un ensemble de valeurs uniques de $S$ (vocabulaire) \n",
    "\n",
    "L'entropie de $S$ est calculée comme suit : \n",
    "$$H(S) = - \\sum\\limits_{v \\in V} p(v/S) \\log_2 p(v/S)$$\n",
    "\n",
    "Par exemple, la colonne \"jouer\" contient deux valeurs \"oui\" et \"non\". \n",
    "Son entopie est :\n",
    "$$H(jouer) = - \\frac{9}{14} * \\log_2(\\frac{9}{14}) - \\frac{5}{14} * \\log_2(\\frac{5}{14}) = 0.9402859586706309$$ \n"
   ]
  },
  {
   "cell_type": "code",
   "execution_count": 3,
   "metadata": {},
   "outputs": [
    {
     "data": {
      "text/plain": [
       "(0.9402859586706311, 1.5774062828523454)"
      ]
     },
     "execution_count": 3,
     "metadata": {},
     "output_type": "execute_result"
    }
   ],
   "source": [
    "# TODO compléter la fonction d'entropie\n",
    "# np.log2 : calcule log2 d'une valeur, vecteur ou matrice\n",
    "def H(S):  \n",
    "    V = np.unique(S)\n",
    "    entropie = 0\n",
    "    # Compléter ici\n",
    "    for v in V:\n",
    "        entropie += P(S, v)*np.log2(P(S, v)) \n",
    "    return -(entropie) \n",
    "\n",
    "#=====================================================================\n",
    "# TEST UNITAIRE\n",
    "#=====================================================================\n",
    "# Resultat : (0.9402859586706311, 1.5774062828523454)\n",
    "#---------------------------------------------------------------------\n",
    "\n",
    "H(Y_jouer), H(X_jouer[:,0])"
   ]
  },
  {
   "cell_type": "markdown",
   "metadata": {},
   "source": [
    "#### I.1.3. Division d'un ensemble\n",
    "\n",
    "**Rien à programmer ici**\n",
    "\n",
    "Ici, on essaye de diviser la liste des prédictions (classes) selon les valeurs d'un attribut (caractéristique, colonne) à des sous listes. \n",
    "\n",
    "Etant donné : \n",
    "- **Y** : la liste à diviser\n",
    "- **A** : la liste des valeurs d'un attribut (caractéristique, colonne). C'est un vecteur aligné avec Y ; c-à-d, chaque élément de A a un élément de Y respectif.\n",
    "- **v** : la valeur sur laquelle on divie.\n",
    "\n",
    "$$S_{A,v} = \\{y^{(i)} \\in Y / a^{(i)} \\in A \\wedge a^{(i)} = v\\}\\}$$\n",
    "\n",
    "Par exemple, si \n",
    "- $Y$ est la liste des prédictions de \"jouer\"\n",
    "- $A$ est la liste des valeurs de la caractéristique \"temps\"\n",
    "- $v$ est la valeur \"ensoleile\"\n",
    "La sous ensemble de \"jouer\" où (temps = \"ensoleile\") contient 3 non et 2 oui "
   ]
  },
  {
   "cell_type": "code",
   "execution_count": 4,
   "metadata": {},
   "outputs": [
    {
     "data": {
      "text/plain": [
       "array(['non', 'non', 'non', 'oui', 'oui'], dtype=object)"
      ]
     },
     "execution_count": 4,
     "metadata": {},
     "output_type": "execute_result"
    }
   ],
   "source": [
    "def diviser_ID3(Y, A, v):\n",
    "    msk = A == v\n",
    "    return Y[msk]\n",
    "\n",
    "#=====================================================================\n",
    "# TEST UNITAIRE\n",
    "#=====================================================================\n",
    "# Resultat : array(['non', 'non', 'non', 'oui', 'oui'], dtype=object)\n",
    "#---------------------------------------------------------------------\n",
    "\n",
    "diviser_ID3(Y_jouer, X_jouer[:,0], \"ensoleile\")"
   ]
  },
  {
   "cell_type": "markdown",
   "metadata": {},
   "source": [
    "#### I.1.4. Gain d'entropie\n",
    "\n",
    "Le gain d'entropie (information gain) est la différence entre l'entropie avant et après la division d'une liste $Y$ selon l'attribut $A$. \n",
    "En d'autres termes, combien d'incertitude dans $Y$ a été réduite après sa division en utilisant l'attribut $A$.\n",
    "\n",
    "Etant donné : \n",
    "- **Y** : une liste à diviser\n",
    "- **A** : une liste des valeurs d'un attribut (caractéristique, colonne) \n",
    "- **V** : l'ensemble des valeurs différentes de l'attribut A (vocabulaire)\n",
    "- **p(v/A)** : la probabité d'occurence de la valeur $v$ dans $A$\n",
    "- $Y_{A, v}$ : sous-ensemble de $Y$ où les valeurs de $V$ égalent à $v$  en utilisant la fonction précédente (diviser_ID3)\n",
    "\n",
    "Le gain d'entrepie se calcule comme suit : \n",
    "\n",
    "$$IG(Y, A) = H(Y) - \\sum_{v \\in V} p(v/A) H(Y_{A, v})$$"
   ]
  },
  {
   "cell_type": "code",
   "execution_count": 5,
   "metadata": {},
   "outputs": [
    {
     "data": {
      "text/plain": [
       "(0.24674981977443933, 0.9402859586706311)"
      ]
     },
     "execution_count": 5,
     "metadata": {},
     "output_type": "execute_result"
    }
   ],
   "source": [
    "# TODO Compléter la fonction du gain d'entropie\n",
    "# elle doit rendre le gain d'entropie et l'entropie \n",
    "# On rend l'entropie pour ne pas recalculer ultérierement \n",
    "def IG(Y, A):\n",
    "    V = np.unique(A)\n",
    "    entropie = H(Y)\n",
    "    ig_global = entropie\n",
    "    # Compléter ici\n",
    "    summ = 0\n",
    "    for v in V:\n",
    "        summ += P(A, v)*H(diviser_ID3(Y, A, v))\n",
    "    ig_global -= summ\n",
    "    return ig_global, entropie\n",
    "\n",
    "#=====================================================================\n",
    "# TEST UNITAIRE\n",
    "#=====================================================================\n",
    "# Resultat : (0.24674981977443933, 0.9402859586706311)\n",
    "#---------------------------------------------------------------------\n",
    "\n",
    "IG(Y_jouer, X_jouer[:, 0])"
   ]
  },
  {
   "cell_type": "markdown",
   "metadata": {},
   "source": [
    "#### I.1.5. Choix de l'attribut de division ID3\n",
    "\n",
    "Ici, vous devez chercher l'attribut qui maximise IG.\n",
    "\n",
    "$$jj = \\arg\\max_j IG(Y, X_j)$$\n",
    "\n",
    "La fonction doit rendre jj, le IG de division en utilisant jj et l'entropy"
   ]
  },
  {
   "cell_type": "code",
   "execution_count": 6,
   "metadata": {
    "scrolled": true
   },
   "outputs": [
    {
     "data": {
      "text/plain": [
       "(0, 0.24674981977443933, 0.9402859586706311)"
      ]
     },
     "execution_count": 6,
     "metadata": {},
     "output_type": "execute_result"
    }
   ],
   "source": [
    "# TODO compléter la fonction du choix d'attribut de dévision\n",
    "# le plus adéquat pour diviser Y \n",
    "# elle doit, aussi, rendre le IG et le H de ce caractéristique \n",
    "def choisir_devision_ID3(X, Y): \n",
    "    jj = -1 # numéro d'attribut qui maximise IG\n",
    "    ig_jj = -1.0 # IG de cet attribut (le max)\n",
    "    h_jj = -1.0  # Entropie \n",
    "    # Compléter ici\n",
    "    Vs = []\n",
    "    for it in range(0, (len(X[0]))):\n",
    "        V = []\n",
    "        for x in X:\n",
    "            V.append(x[it])\n",
    "        Vs.append(V)\n",
    "    for index, v in enumerate(Vs):\n",
    "        result = IG(Y, np.array(v))\n",
    "        ig = result[0]\n",
    "        entr = result[1]\n",
    "        if ig > ig_jj: \n",
    "            ig_jj = ig\n",
    "            jj = index\n",
    "            h_jj = entr\n",
    "    return jj, ig_jj, h_jj\n",
    "\n",
    "#=====================================================================\n",
    "# TEST UNITAIRE\n",
    "#=====================================================================\n",
    "# Resultat : (0, 0.24674981977443933, 0.9402859586706311)\n",
    "#---------------------------------------------------------------------\n",
    "\n",
    "choisir_devision_ID3(X_jouer, Y_jouer)"
   ]
  },
  {
   "cell_type": "markdown",
   "metadata": {},
   "source": [
    "#### I.1.6. Arrêt de division\n",
    "\n",
    "Etant donné les données suivantes :\n",
    "- **Y** : l'ensemble des prédiction au niveau d'un noeud\n",
    "- **h** : le critère d'homoginiété. h = 0 ==> l'ensemble Y est homogène (mêmes valeurs)\n",
    "- **nbr_min** : le nombre minimale des observations dans un noeud. |Y| <= nbr_min ==> le noeud doit être une feuille\n",
    "\n",
    "La fonction d'arrêt doit retourner : \n",
    "- Le nom de la classe : si l'ensemble est homogène ou il contient un nombre minimal des éléments\n",
    "- None : sinon"
   ]
  },
  {
   "cell_type": "code",
   "execution_count": 10,
   "metadata": {},
   "outputs": [
    {
     "data": {
      "text/plain": [
       "('oui', 'non', None)"
      ]
     },
     "execution_count": 10,
     "metadata": {},
     "output_type": "execute_result"
    }
   ],
   "source": [
    "# TODO : réaliser la fonction d'arrêt ID3\n",
    "# HINT : utiliser numpy.unique et numpy.argmax\n",
    "def arreter_ID3(Y, h, nbr_min):\n",
    "    Vs = np.unique(Y)\n",
    "    frequencies = []\n",
    "    for v in Vs:\n",
    "        frequency = 0\n",
    "        for classe in Y:\n",
    "            if classe == v:\n",
    "                frequency += 1\n",
    "        frequencies.append(frequency)   \n",
    "    if h==0 or len(Y) <= nbr_min:\n",
    "        return Vs[np.argmax(frequencies)]\n",
    "    return None\n",
    "\n",
    "#=====================================================================\n",
    "# TEST UNITAIRE\n",
    "#=====================================================================\n",
    "# Resultat : ('oui', 'non', None)\n",
    "#---------------------------------------------------------------------\n",
    "\n",
    "Y_t1 = np.array([\"oui\", \"oui\", \"oui\"])\n",
    "Y_t2 = np.array([\"oui\", \"non\", \"non\"])\n",
    "arreter_ID3(Y_t1, H(Y_t1), 2), arreter_ID3(Y_t2, H(Y_t2), 4), arreter_ID3(Y_t2, H(Y_t2), 2)"
   ]
  },
  {
   "cell_type": "markdown",
   "metadata": {},
   "source": [
    "#### I.1.7. Création de l'arbre\n",
    "\n",
    "**Rien à programmer ici**\n"
   ]
  },
  {
   "cell_type": "code",
   "execution_count": 11,
   "metadata": {},
   "outputs": [
    {
     "name": "stdout",
     "output_type": "stream",
     "text": [
      "Le Code\n",
      "Si X[0] est \"ensoleile\" Alors\n",
      "    Si X[2] est \"haute\" Alors\n",
      "        Y est \"non\"\n",
      "    Si X[2] est \"normale\" Alors\n",
      "        Y est \"oui\"\n",
      "Si X[0] est \"nuageux\" Alors\n",
      "    Y est \"oui\"\n",
      "Si X[0] est \"pluvieux\" Alors\n",
      "    Si X[3] est \"non\" Alors\n",
      "        Y est \"oui\"\n",
      "    Si X[3] est \"oui\" Alors\n",
      "        Y est \"non\"\n",
      "\n"
     ]
    },
    {
     "data": {
      "text/plain": [
       "'oui'"
      ]
     },
     "execution_count": 11,
     "metadata": {},
     "output_type": "execute_result"
    }
   ],
   "source": [
    "# Une classe pour contenir les informations du noeud et \n",
    "# la liste de ces fils\n",
    "class Noeud(object): \n",
    "    \n",
    "    nbr = 0\n",
    "    \n",
    "    def __init__(self, num, ig, h, profondeur): \n",
    "        self.num = num # le numéro du caractéristique de dévision dans X\n",
    "        self.ig = ig # le IG de division\n",
    "        self.h = h # l'entropie H\n",
    "        self.pr = profondeur # la profondeur du noeud\n",
    "        self.fils = {} # les fils ; un dictionnaire valeur : noeud\n",
    "        self.cls = \"\" # la classe si ce noeud est final (s'il n'y a pas de fils)\n",
    "        self.indent = \"    \" # indentation lorsqu'on génère le code\n",
    "    \n",
    "    # Cette fonction est pour transformer le noeud à une string\n",
    "    #Ici, nous avons redéfini cette fonction afin qu'elle écrive l'arbre \n",
    "    #sous form d'un algorithme ; c'est un parser \n",
    "    def __str__(self):\n",
    "        \n",
    "        indent = self.indent * self.pr # indentation : esthetique\n",
    "        \n",
    "        # s'il n'y a pas de fils, le noeud est terminal ; on imprime la classe\n",
    "        if (len(self.fils)==0):\n",
    "            return indent + 'Y est \"' + self.cls + '\"\\n'\n",
    "        \n",
    "        # s'il y a des fils, on boucle sur les fils et on imprime des SI ... ALORS\n",
    "        res = \"\"\n",
    "        for valeur in self.fils:\n",
    "            res += indent + 'Si X[' + str(self.num) + '] est \"' + str(valeur) + '\" Alors\\n' + str(self.fils[valeur])\n",
    "        return res\n",
    "    \n",
    "    # predire un échantillon\n",
    "    def predire(self, x): \n",
    "        \n",
    "        # Si le noeud est final, il rend sa classe \n",
    "        if (len(self.fils)==0):\n",
    "            return self.cls\n",
    "        \n",
    "        # Si la valeur de la colonne respective à ce noeud n'appartient pas à l'ensemble des\n",
    "        # valeurs attendues, on rend np.nan\n",
    "        if x[self.num] not in self.fils: \n",
    "            return np.nan\n",
    "        \n",
    "        # Sinon, on rend \n",
    "        return self.fils[x[self.num]].predire(x)\n",
    "    \n",
    "    # générer un code pour graphviz\n",
    "    def graphviz(self): \n",
    "        \n",
    "        nid = 'N' + str(Noeud.nbr)\n",
    "        Noeud.nbr += 1\n",
    "        \n",
    "        # Si le noeud est final, \n",
    "        if (len(self.fils)==0):\n",
    "            return nid, nid + '[label=\"' + self.cls + '\" shape=ellipse];\\n'\n",
    "        \n",
    "        # Sinon, \n",
    "        # s'il y a des fils, on boucle sur les fils et on imprime des SI ... ALORS\n",
    "        res = nid + '[label=\"X[' + str(self.num) + ']\\\\n'\n",
    "        res += 'H = ' + str(self.h) + '\\\\n'\n",
    "        res += 'IG = ' + str(self.ig) + '\"];\\n'\n",
    "        for valeur in self.fils:\n",
    "            vid, code = self.fils[valeur].graphviz()\n",
    "            res += code\n",
    "            res += nid + ' -> ' + vid + ' [label=\"' + valeur + '\"];\\n'\n",
    "        return nid, res\n",
    "    \n",
    "\n",
    "# créer l'arbre de décision à partir d'un ensemble X et Y\n",
    "def entrainer_ID3(X, Y, nbr_min=0, profondeur=0): \n",
    "    \n",
    "    # Chercher la meilleure caractéristique de X pour diviser Y\n",
    "    jj, ig_jj, h_jj = choisir_devision_ID3(X, Y)\n",
    "    # Créer un noeud\n",
    "    noeud = Noeud(jj, ig_jj, h_jj, profondeur)\n",
    "    # si arrêter rend une classe, donc c'est une feuille \n",
    "    cls = arreter_ID3(Y, h_jj, nbr_min)\n",
    "    if cls:\n",
    "        noeud.cls = cls # la classe du noeud\n",
    "        return noeud # retourner le noeud \n",
    "    \n",
    "    # Sinon, si le noeud n'est pas une feuille, on crée ces fils\n",
    "    profondeur += 1 # la profondeur de ces fils\n",
    "    # les fils sont créés à partir des valeurs uniques du meilleur caractéristique\n",
    "    for v in np.unique(X[:, jj]):\n",
    "        # Ces trois lignes sont pour récupérer les sous-ensembles X_val, Y_val\n",
    "        # Corresondants à une valeur du meilleur caractéristique\n",
    "        msk = X[:, jj] == v \n",
    "        X_v = X[msk]\n",
    "        Y_v = Y[msk]\n",
    "        # On refait la même opération sur l'ensemble (Y_val) d'une manière récursive\n",
    "        fils = entrainer_ID3(X_v, Y_v, nbr_min=nbr_min, profondeur=profondeur)\n",
    "        # On affecte le noeud créé indexé par la valeur du meilleur caractéristique \n",
    "        # à l'ensemble des fils du noeud courant\n",
    "        noeud.fils[v] = fils\n",
    "    \n",
    "    return noeud\n",
    "\n",
    "arbre_jouer = entrainer_ID3(X_jouer, Y_jouer)\n",
    "\n",
    "print(\"Le Code\")\n",
    "print(arbre_jouer)\n",
    "\n",
    "# Tester sur un échantillon\n",
    "arbre_jouer.predire([\"pluvieux\", \"temperature_makanche\", \"humidite_makanche\", \"non\"])"
   ]
  },
  {
   "cell_type": "markdown",
   "metadata": {},
   "source": [
    "#### I.1.8. Regrouper le tous\n",
    "\n",
    "**Rien à programmer ici**"
   ]
  },
  {
   "cell_type": "code",
   "execution_count": 12,
   "metadata": {},
   "outputs": [
    {
     "name": "stdout",
     "output_type": "stream",
     "text": [
      "Si temps est \"ensoleile\" Alors\n",
      "    Si humidite est \"haute\" Alors\n",
      "        jouer est \"non\"\n",
      "    Si humidite est \"normale\" Alors\n",
      "        jouer est \"oui\"\n",
      "Si temps est \"nuageux\" Alors\n",
      "    jouer est \"oui\"\n",
      "Si temps est \"pluvieux\" Alors\n",
      "    Si vent est \"non\" Alors\n",
      "        jouer est \"oui\"\n",
      "    Si vent est \"oui\" Alors\n",
      "        jouer est \"non\"\n",
      "\n"
     ]
    }
   ],
   "source": [
    "class ID3(object): \n",
    "    \n",
    "    def entrainer(self, X, Y, X_noms=[], Y_nom=\"\", nbr_min=0):\n",
    "        self.arbre = entrainer_ID3(X, Y, nbr_min=nbr_min)\n",
    "        code = str(self.arbre)\n",
    "        if len(Y_nom) > 0: \n",
    "            code = code.replace(\"Y\", Y_nom)\n",
    "        for i in range(len(X_noms)): \n",
    "            code = code.replace(\"X[\" + str(i) + \"]\", X_noms[i])\n",
    "        self.code = code\n",
    "        self.X_noms = X_noms\n",
    "    \n",
    "    def predire(self, X): \n",
    "        predictions = []\n",
    "        for i in range(len(X)): \n",
    "            predictions.append(self.arbre.predire(X[i, :]))\n",
    "        return predictions\n",
    "    \n",
    "    def graphviz(self): \n",
    "        nid, code = self.arbre.graphviz()\n",
    "        res = \"digraph Tree {\\n\"\n",
    "        res += \"node [shape=box] ;\"\n",
    "        for i in range(len(self.X_noms)): \n",
    "            code = code.replace(\"X[\" + str(i) + \"]\", self.X_noms[i])\n",
    "        res += code\n",
    "        res += \"}\"\n",
    "        return res\n",
    "\n",
    "id3_classifieur = ID3()\n",
    "id3_classifieur.entrainer(X_jouer, Y_jouer, X_noms=[\"temps\", \"temperature\", \"humidite\", \"vent\"], Y_nom=\"jouer\")\n",
    "print(id3_classifieur.code)"
   ]
  },
  {
   "cell_type": "code",
   "execution_count": 13,
   "metadata": {},
   "outputs": [
    {
     "name": "stdout",
     "output_type": "stream",
     "text": [
      "il faut installer graphviz\n"
     ]
    }
   ],
   "source": [
    "# C'est juste une visualisation du graphe\n",
    "# Si ça ne marche pas, ce n'ai pas grave\n",
    "try:\n",
    "    from IPython.display import SVG\n",
    "    from graphviz import Source\n",
    "    from IPython.display import display\n",
    "    \n",
    "    graph = Source(id3_classifieur.graphviz())\n",
    "    display(SVG(graph.pipe(format='svg')))\n",
    "\n",
    "except ImportError:\n",
    "    print(\"il faut installer graphviz\")"
   ]
  },
  {
   "cell_type": "markdown",
   "metadata": {},
   "source": [
    "### I.2. CART\n",
    "\n",
    "Ici, on va implémenter l'algorithme CART pour la classification avec des caractéristiques numériques. On va utiliser le dataset \"jouer (numériques)\". \n"
   ]
  },
  {
   "cell_type": "code",
   "execution_count": 11,
   "metadata": {},
   "outputs": [
    {
     "data": {
      "text/html": [
       "<div>\n",
       "<style scoped>\n",
       "    .dataframe tbody tr th:only-of-type {\n",
       "        vertical-align: middle;\n",
       "    }\n",
       "\n",
       "    .dataframe tbody tr th {\n",
       "        vertical-align: top;\n",
       "    }\n",
       "\n",
       "    .dataframe thead th {\n",
       "        text-align: right;\n",
       "    }\n",
       "</style>\n",
       "<table border=\"1\" class=\"dataframe\">\n",
       "  <thead>\n",
       "    <tr style=\"text-align: right;\">\n",
       "      <th></th>\n",
       "      <th>temperature</th>\n",
       "      <th>humidite</th>\n",
       "      <th>vent</th>\n",
       "      <th>jouer</th>\n",
       "    </tr>\n",
       "  </thead>\n",
       "  <tbody>\n",
       "    <tr>\n",
       "      <th>0</th>\n",
       "      <td>30</td>\n",
       "      <td>85</td>\n",
       "      <td>0</td>\n",
       "      <td>non</td>\n",
       "    </tr>\n",
       "    <tr>\n",
       "      <th>1</th>\n",
       "      <td>27</td>\n",
       "      <td>90</td>\n",
       "      <td>1</td>\n",
       "      <td>non</td>\n",
       "    </tr>\n",
       "    <tr>\n",
       "      <th>2</th>\n",
       "      <td>28</td>\n",
       "      <td>78</td>\n",
       "      <td>0</td>\n",
       "      <td>oui</td>\n",
       "    </tr>\n",
       "    <tr>\n",
       "      <th>3</th>\n",
       "      <td>21</td>\n",
       "      <td>96</td>\n",
       "      <td>0</td>\n",
       "      <td>oui</td>\n",
       "    </tr>\n",
       "    <tr>\n",
       "      <th>4</th>\n",
       "      <td>20</td>\n",
       "      <td>80</td>\n",
       "      <td>0</td>\n",
       "      <td>oui</td>\n",
       "    </tr>\n",
       "  </tbody>\n",
       "</table>\n",
       "</div>"
      ],
      "text/plain": [
       "   temperature  humidite  vent jouer\n",
       "0           30        85     0   non\n",
       "1           27        90     1   non\n",
       "2           28        78     0   oui\n",
       "3           21        96     0   oui\n",
       "4           20        80     0   oui"
      ]
     },
     "execution_count": 11,
     "metadata": {},
     "output_type": "execute_result"
    }
   ],
   "source": [
    "from google.colab import files\n",
    "uploaded = files.upload()\n",
    "\n",
    "import io\n",
    "njouer_data = pd.read_csv(io.BytesIO(uploaded['jouer_num.csv']))\n",
    "\n",
    "# njouer_data = pd.read_csv(\"datasets/jouer_num.csv\")\n",
    "X_njouer = njouer_data.iloc[:, :-1].values # Premières colonnes \n",
    "Y_njouer = njouer_data.iloc[:,-1].values # Dernière colonne \n",
    "njouer_data.head()"
   ]
  },
  {
   "cell_type": "markdown",
   "metadata": {},
   "source": [
    "#### I.2.1. Index de diversité de Gini\n",
    "\n",
    "Dans le cas de classement, CART utilise l'indexe de diversité Gini pour mesurer l'erreur de classification.\n",
    "Un index de 0 représente la meilleure division; \n",
    "\n",
    "Etant donné : \n",
    "- $S$ liste des valeurs  \n",
    "- $V$ ensemble des valeurs uniques de $S$  (vocabulaire)\n",
    "\n",
    "L'index de diversité  $Gini(S)$ est calculée comme suit : \n",
    "$$Gini(S) = \\sum\\limits_{v \\in V} p(v/S) (1-p(v/S)) = 1 - \\sum\\limits_{v \\in V} p(v/S)^2 $$"
   ]
  },
  {
   "cell_type": "code",
   "execution_count": 12,
   "metadata": {},
   "outputs": [
    {
     "data": {
      "text/plain": [
       "0.4591836734693877"
      ]
     },
     "execution_count": 12,
     "metadata": {},
     "output_type": "execute_result"
    }
   ],
   "source": [
    "# TODO compléter la fonction Gini\n",
    "def Gini(S):  \n",
    "    V = np.unique(S)\n",
    "    gini = 1\n",
    "    # Compléter ici\n",
    "    summ = 0\n",
    "    for v in V:\n",
    "        summ += P(S, v)**2\n",
    "    return (gini -summ) \n",
    "\n",
    "#=====================================================================\n",
    "# TEST UNITAIRE\n",
    "#=====================================================================\n",
    "# Resultat : 0.4591836734693877\n",
    "#---------------------------------------------------------------------\n",
    "\n",
    "Gini(Y_njouer)"
   ]
  },
  {
   "cell_type": "markdown",
   "metadata": {},
   "source": [
    "#### I.2.2. Division d'un ensemble\n",
    "\n",
    "**Rien à programmer ici**\n",
    "\n",
    "Ici, on essaye de diviser la liste des prédictions (classes) $Y$ selon une valeur donnée $v$ d'un attribut (caractéristique, colonne) $A$ sur deux listes :\n",
    "- $Y_G$ : une liste contenant les éléments de $Y$ où $A > v$\n",
    "- $Y_D$ : une liste contenant les éléments de $Y$ où $A \\le v$\n"
   ]
  },
  {
   "cell_type": "code",
   "execution_count": 13,
   "metadata": {},
   "outputs": [
    {
     "data": {
      "text/plain": [
       "(array(['non', 'non', 'oui', 'oui', 'non', 'oui', 'oui', 'oui', 'oui',\n",
       "        'oui', 'non'], dtype=object),\n",
       " array(['oui', 'non', 'oui'], dtype=object))"
      ]
     },
     "execution_count": 13,
     "metadata": {},
     "output_type": "execute_result"
    }
   ],
   "source": [
    "def diviser_CART(Y, A, v):\n",
    "    msk = A > v\n",
    "    return Y[msk], Y[~msk]\n",
    "\n",
    "#=====================================================================\n",
    "# TEST UNITAIRE\n",
    "#=====================================================================\n",
    "# Resultat : \n",
    "# (array(['non', 'non', 'oui', 'oui', 'non', 'oui', 'oui', 'oui', 'oui',\n",
    "#         'oui', 'non'], dtype=object),\n",
    "#  array(['oui', 'non', 'oui'], dtype=object))\n",
    "#---------------------------------------------------------------------\n",
    "\n",
    "diviser_CART(Y_njouer, X_njouer[:,0], 20)"
   ]
  },
  {
   "cell_type": "markdown",
   "metadata": {},
   "source": [
    "#### I.2.3. Diversité Gini de la division\n",
    "\n",
    "Etant donné : \n",
    "- **Y** : une liste des prédictions\n",
    "- **V** : les différentes valeurs de Y (les classes\n",
    "- S_G, G_D : sous ensembles gauche et droit\n",
    "- $|S| = |S_G| + |S_D|$\n",
    "\n",
    "La diversité Gini de la division : \n",
    "\n",
    "$$Gini_{div}(S_G, S_D) = \\frac{|S_G|}{|S|} Gini(S_G) + \\frac{|S_D|}{|S|} Gini(S_D)$$\n"
   ]
  },
  {
   "cell_type": "code",
   "execution_count": 14,
   "metadata": {},
   "outputs": [
    {
     "data": {
      "text/plain": [
       "0.4588744588744589"
      ]
     },
     "execution_count": 14,
     "metadata": {},
     "output_type": "execute_result"
    }
   ],
   "source": [
    "# TODO compléter la fonction diversité gini de la division\n",
    "def Gini_div(S_G, S_D): \n",
    "    S_len = float(len(S_G) + len(S_D)) \n",
    "    # Compléter ici\n",
    "    Gini_div = Gini(S_G)*(len(S_G)/S_len) + Gini(S_D)*(len(S_D)/S_len) \n",
    "    return Gini_div\n",
    "\n",
    "#=====================================================================\n",
    "# TEST UNITAIRE\n",
    "#=====================================================================\n",
    "# Resultat : 0.4588744588744589\n",
    "#---------------------------------------------------------------------\n",
    "\n",
    "S_G, S_D = diviser_CART(Y_njouer, X_njouer[:, 0], 20)\n",
    "Gini_div(S_G, S_D)"
   ]
  },
  {
   "cell_type": "markdown",
   "metadata": {},
   "source": [
    "#### I.2.4. Choix de l'attribut et la valeur de division CART\n",
    "\n",
    "L'algorithme\n",
    "- Pour chaque ccaractéristique $X_j$ \n",
    "   - Pour chaque valeur $v$ appartennant aux valeurs uniques de $X_j$\n",
    "       1. Diviser $Y$ en se basant sur la valeur $v$ et celles de $X_j$\n",
    "       1. Calculer Gini de cette division \n",
    "       1. Garder l'indice **jj** de la caractéristique qui minimise Gini\n",
    "       1. Garder Gini minimale **gini_jj**\n",
    "       1. Garder la valeur de dévision **v_jj**\n",
    "       "
   ]
  },
  {
   "cell_type": "code",
   "execution_count": 15,
   "metadata": {},
   "outputs": [
    {
     "data": {
      "text/plain": [
       "(1, 0.3936507936507937, 80)"
      ]
     },
     "execution_count": 15,
     "metadata": {},
     "output_type": "execute_result"
    }
   ],
   "source": [
    "# TODO compléter la fonction du choix de l'attribut et la valeur de division CART\n",
    "def choisir_division_CART(X, Y): \n",
    "    jj = -1\n",
    "    gini_jj = 1.0\n",
    "    v_jj = -1.0\n",
    "    # Compléter ici\n",
    "    Vs = []\n",
    "    for it in range(0, len(X[0])):\n",
    "      V = []\n",
    "      for x in X:\n",
    "        V.append(x[it])\n",
    "      Vs.append(V)\n",
    "    for index, xj in enumerate(Vs):\n",
    "      for v in np.unique(xj):\n",
    "        if Gini(xj) < gini_jj:\n",
    "          division = diviser_CART(Y, xj, v)\n",
    "          S_G = division[0]\n",
    "          S_D = division[1]\n",
    "          gini_jj = Gini(xj)\n",
    "          jj = index\n",
    "          v_jj = Gini_div(S_G, S_D)\n",
    "        \n",
    "    return jj, gini_jj, v_jj\n",
    "\n",
    "#=====================================================================\n",
    "# TEST UNITAIRE\n",
    "#=====================================================================\n",
    "# Resultat : (1, 0.3936507936507937, 80)\n",
    "#---------------------------------------------------------------------\n",
    "\n",
    "choisir_division_CART(X_njouer, Y_njouer)"
   ]
  },
  {
   "cell_type": "markdown",
   "metadata": {},
   "source": [
    "#### I.2.5. Arrêt de division CART\n",
    "\n",
    "**Rien à programmer ici** \n",
    "\n",
    "On va utiliser la même fonction que celle de ID3. Mais, pour être consistant, on va seulement renomer la fonction et passer Gini à la place de l'entropie."
   ]
  },
  {
   "cell_type": "code",
   "execution_count": 16,
   "metadata": {},
   "outputs": [
    {
     "data": {
      "text/plain": [
       "('oui', 'non', None)"
      ]
     },
     "execution_count": 16,
     "metadata": {},
     "output_type": "execute_result"
    }
   ],
   "source": [
    "arreter_CART = arreter_ID3\n",
    "\n",
    "#=====================================================================\n",
    "# TEST UNITAIRE\n",
    "#=====================================================================\n",
    "# Resultat : ('oui', 'non', None)\n",
    "#---------------------------------------------------------------------\n",
    "\n",
    "Y_t1 = np.array([\"oui\", \"oui\", \"oui\"])\n",
    "Y_t2 = np.array([\"oui\", \"non\", \"non\"])\n",
    "arreter_CART(Y_t1, H(Y_t1), 2), arreter_CART(Y_t2, H(Y_t2), 4), arreter_CART(Y_t2, H(Y_t2), 2)"
   ]
  },
  {
   "cell_type": "markdown",
   "metadata": {},
   "source": [
    "#### I.2.6. Création de l'arbre\n",
    "\n",
    "**Rien à programmer ici**"
   ]
  },
  {
   "cell_type": "code",
   "execution_count": 17,
   "metadata": {},
   "outputs": [
    {
     "name": "stdout",
     "output_type": "stream",
     "text": [
      "Le Code\n",
      "Si X[1]  > 80 Alors\n",
      "    Si X[0]  > 22 Alors\n",
      "        Y est \"non\"\n",
      "    Sinon\n",
      "        Si X[0]  > 21 Alors\n",
      "            Y est \"non\"\n",
      "        Sinon\n",
      "            Y est \"oui\"\n",
      "Sinon\n",
      "    Si X[2]  > 0 Alors\n",
      "        Si X[1]  > 70 Alors\n",
      "            Y est \"non\"\n",
      "        Sinon\n",
      "            Si X[0]  > 18 Alors\n",
      "                Y est \"oui\"\n",
      "            Sinon\n",
      "                Y est \"non\"\n",
      "    Sinon\n",
      "        Y est \"oui\"\n",
      "\n"
     ]
    }
   ],
   "source": [
    "# Comme Noeud, mais il faut changer un peu, puisqu'on teste sur des \n",
    "# valeurs numériques aussi\n",
    "# Le code sera plus utilisable si on crée une classe commune et on hérite\n",
    "# Mais, je n'ai pas le temps pour tout ça (DEAL WITH IT)\n",
    "class NoeudBin(object): \n",
    "    \n",
    "    nbr = 0\n",
    "    \n",
    "    def __init__(self, num, val, gini, profondeur): \n",
    "        self.num = num # le numéro du caractéristique de dévision dans X\n",
    "        self.val = val\n",
    "        self.gini = gini # le Gini de division\n",
    "        self.pr = profondeur # la profondeur du noeud\n",
    "        self.fils = [] # les fils ; un tableau de deux noeuds: S_G, S_D\n",
    "        self.cls = \"\" # la classe si ce noeud est final (s'il n'y a pas de fils)\n",
    "        self.indent = \"    \" # indentation lorsqu'on génère le code\n",
    "    \n",
    "    # Cette fonction est pour transformer le noeud à une string\n",
    "    #Ici, nous avons redéfini cette fonction afin qu'elle écrive l'arbre \n",
    "    #sous form d'un algorithme ; c'est un parser \n",
    "    def __str__(self):\n",
    "        \n",
    "        indent = self.indent * self.pr # indentation : esthetique\n",
    "        \n",
    "        # s'il n'y a pas de fils, le noeud est terminal ; on imprime la classe\n",
    "        if (len(self.fils)==0):\n",
    "            return indent + 'Y est \"' + self.cls + '\"\\n'\n",
    "         \n",
    "        prefix = ' > '\n",
    "        suffix = ''\n",
    "        \n",
    "        # s'il y a des fils, on boucle sur les fils et on imprime des SI ... ALORS SINON\n",
    "        res = \"\"\n",
    "        res += indent + 'Si X[' + str(self.num) + '] ' + prefix + str(self.val) + suffix + ' Alors\\n' + str(self.fils[0])\n",
    "        res += indent + 'Sinon\\n' + str(self.fils[1])\n",
    "        return res\n",
    "    \n",
    "    # predire un échantillon\n",
    "    def predire(self, x): \n",
    "        \n",
    "        # Si le noeud est final, il rend sa classe \n",
    "        if (len(self.fils)==0):\n",
    "            return self.cls\n",
    "        \n",
    "        # sinon\n",
    "        if x[self.num] > self.val:\n",
    "            return self.fils[0].predire(x)\n",
    "        return self.fils[1].predire(x)\n",
    "\n",
    "    \n",
    "    # générer un code pour graphviz\n",
    "    def graphviz(self): \n",
    "        \n",
    "        nid = 'N' + str(NoeudBin.nbr)\n",
    "        NoeudBin.nbr += 1\n",
    "        \n",
    "        # Si le noeud est final, \n",
    "        if (len(self.fils)==0):\n",
    "            return nid, nid + '[label=\"' + self.cls + '\" shape=ellipse];\\n'\n",
    "        \n",
    "        # Sinon, \n",
    "        # s'il y a des fils, on boucle sur les fils et on imprime des SI ... ALORS\n",
    "        prefix = '] > '\n",
    "        res = nid + '[label=\"X[' + str(self.num) + prefix + str(self.val) + '\\\\n'\n",
    "        res += 'Gini = ' + str(self.gini) + '\"];\\n'\n",
    "        vid_G, code_G = self.fils[0].graphviz()\n",
    "        vid_D, code_D = self.fils[1].graphviz()\n",
    "        \n",
    "        res += code_G + code_D\n",
    "        res += nid + ' -> ' + vid_G + ' [label=\"Vrai\"];\\n'\n",
    "        res += nid + ' -> ' + vid_D + ' [label=\"Faux\"];\\n'\n",
    "        return nid, res\n",
    "\n",
    "# créer l'arbre de décision à partir d'un ensemble X et Y\n",
    "def entrainer_CART(X, Y, profondeur=0, nbr_min=0): \n",
    "    \n",
    "    # Chercher le meilleur caractéristique de X pour diviser Y\n",
    "    jj, gini_jj, v_jj = choisir_division_CART(X, Y)\n",
    "    # Créer un noeud\n",
    "    noeud = NoeudBin(jj, v_jj, gini_jj, profondeur)\n",
    "    # Si l'entropie est 0 donc le noeud est terminal, élagage\n",
    "    \n",
    "    cls = arreter_CART(Y, gini_jj, nbr_min)\n",
    "    if cls:\n",
    "        noeud.cls = cls # la classe du noeud\n",
    "        return noeud # retourner le noeud \n",
    "     \n",
    "    \n",
    "    # Sinon, si le noeud n'est pas terminal, on crée ces fils\n",
    "    profondeur += 1 # la profondeur de ces fils\n",
    "    # création des deux fils\n",
    "    \n",
    "    msk = X[:, jj] > v_jj\n",
    "    \n",
    "    X_G = X[msk]\n",
    "    Y_G = Y[msk]\n",
    "    fils_G = entrainer_CART(X_G, Y_G, profondeur, nbr_min)\n",
    "    X_D = X[~msk]\n",
    "    Y_D = Y[~msk]\n",
    "    fils_D = entrainer_CART(X_D, Y_D, profondeur, nbr_min)\n",
    "    noeud.fils.append(fils_G)\n",
    "    noeud.fils.append(fils_D)\n",
    "    \n",
    "    return noeud\n",
    "\n",
    "arbre_njouer = entrainer_CART(X_njouer, Y_njouer)\n",
    "\n",
    "print(\"Le Code\")\n",
    "print(arbre_njouer)"
   ]
  },
  {
   "cell_type": "markdown",
   "metadata": {},
   "source": [
    "#### I.2.7. Regrouper le tous\n",
    "\n",
    "**Rien à programmer ici**"
   ]
  },
  {
   "cell_type": "code",
   "execution_count": 18,
   "metadata": {},
   "outputs": [
    {
     "name": "stdout",
     "output_type": "stream",
     "text": [
      "Si humidite  > 80 Alors\n",
      "    Si temperature  > 22 Alors\n",
      "        jouer est \"non\"\n",
      "    Sinon\n",
      "        Si temperature  > 21 Alors\n",
      "            jouer est \"non\"\n",
      "        Sinon\n",
      "            jouer est \"oui\"\n",
      "Sinon\n",
      "    Si vent  > 0 Alors\n",
      "        Si humidite  > 70 Alors\n",
      "            jouer est \"non\"\n",
      "        Sinon\n",
      "            Si temperature  > 18 Alors\n",
      "                jouer est \"oui\"\n",
      "            Sinon\n",
      "                jouer est \"non\"\n",
      "    Sinon\n",
      "        jouer est \"oui\"\n",
      "\n"
     ]
    }
   ],
   "source": [
    "class CART(object): \n",
    "    \n",
    "    def entrainer(self, X, Y, X_noms=[], Y_nom=\"\", nbr_min=0):\n",
    "        self.arbre = entrainer_CART(X, Y, 0, nbr_min)\n",
    "        code = str(self.arbre)\n",
    "        if len(Y_nom) > 0: \n",
    "            code = code.replace(\"Y\", Y_nom)\n",
    "        for i in range(len(X_noms)): \n",
    "            code = code.replace(\"X[\" + str(i) + \"]\", X_noms[i])\n",
    "        self.code = code\n",
    "        self.X_noms = X_noms\n",
    "    \n",
    "    def predire(self, X): \n",
    "        predictions = []\n",
    "        for i in range(len(X)): \n",
    "            predictions.append(self.arbre.predire(X[i, :]))\n",
    "        return predictions\n",
    "    \n",
    "    def graphviz(self): \n",
    "        nid, code = self.arbre.graphviz()\n",
    "        res = \"digraph Tree {\\n\"\n",
    "        res += \"node [shape=box] ;\"\n",
    "        for i in range(len(self.X_noms)): \n",
    "            code = code.replace(\"X[\" + str(i) + \"]\", self.X_noms[i])\n",
    "        res += code\n",
    "        res += \"}\"\n",
    "        return res\n",
    "\n",
    "cart_classifieur = CART()\n",
    "cart_classifieur.entrainer(X_njouer, Y_njouer, X_noms=[\"temperature\", \"humidite\", \"vent\"], Y_nom=\"jouer\")\n",
    "print(cart_classifieur.code)"
   ]
  },
  {
   "cell_type": "code",
   "execution_count": 19,
   "metadata": {},
   "outputs": [
    {
     "data": {
      "image/svg+xml": [
       "<svg xmlns=\"http://www.w3.org/2000/svg\" xmlns:xlink=\"http://www.w3.org/1999/xlink\" width=\"996pt\" height=\"400pt\" viewBox=\"0.00 0.00 995.85 400.00\">\n",
       "<g id=\"graph0\" class=\"graph\" transform=\"scale(1 1) rotate(0) translate(4 396)\">\n",
       "<title>Tree</title>\n",
       "<polygon fill=\"white\" stroke=\"transparent\" points=\"-4,4 -4,-396 991.85,-396 991.85,4 -4,4\"/>\n",
       "<!-- N0 -->\n",
       "<g id=\"node1\" class=\"node\">\n",
       "<title>N0</title>\n",
       "<polygon fill=\"none\" stroke=\"black\" points=\"639.85,-392 280.85,-392 280.85,-354 639.85,-354 639.85,-392\"/>\n",
       "<text text-anchor=\"middle\" x=\"460.35\" y=\"-376.8\" font-family=\"Times,serif\" font-size=\"14.00\">humidite &gt; 80</text>\n",
       "<text text-anchor=\"middle\" x=\"460.35\" y=\"-361.8\" font-family=\"Times,serif\" font-size=\"14.00\">Gini = 0.3936507936507937</text>\n",
       "</g>\n",
       "<!-- N1 -->\n",
       "<g id=\"node2\" class=\"node\">\n",
       "<title>N1</title>\n",
       "<polygon fill=\"none\" stroke=\"black\" points=\"455.35,-303 81.35,-303 81.35,-265 455.35,-265 455.35,-303\"/>\n",
       "<text text-anchor=\"middle\" x=\"268.35\" y=\"-287.8\" font-family=\"Times,serif\" font-size=\"14.00\">temperature &gt; 22</text>\n",
       "<text text-anchor=\"middle\" x=\"268.35\" y=\"-272.8\" font-family=\"Times,serif\" font-size=\"14.00\">Gini = 0.26666666666666666</text>\n",
       "</g>\n",
       "<!-- N0&#45;&gt;N1 -->\n",
       "<g id=\"edge11\" class=\"edge\">\n",
       "<title>N0-&gt;N1</title>\n",
       "<path fill=\"none\" stroke=\"black\" d=\"M420.56,-353.97C390.57,-340.38 349.28,-321.67 317.27,-307.17\"/>\n",
       "<polygon fill=\"black\" stroke=\"black\" points=\"318.63,-303.94 308.08,-303 315.74,-310.32 318.63,-303.94\"/>\n",
       "<text text-anchor=\"middle\" x=\"405.35\" y=\"-324.8\" font-family=\"Times,serif\" font-size=\"14.00\">Vrai</text>\n",
       "</g>\n",
       "<!-- N6 -->\n",
       "<g id=\"node7\" class=\"node\">\n",
       "<title>N6</title>\n",
       "<polygon fill=\"none\" stroke=\"black\" points=\"832.85,-303 473.85,-303 473.85,-265 832.85,-265 832.85,-303\"/>\n",
       "<text text-anchor=\"middle\" x=\"653.35\" y=\"-287.8\" font-family=\"Times,serif\" font-size=\"14.00\">vent &gt; 0</text>\n",
       "<text text-anchor=\"middle\" x=\"653.35\" y=\"-272.8\" font-family=\"Times,serif\" font-size=\"14.00\">Gini = 0.2222222222222222</text>\n",
       "</g>\n",
       "<!-- N0&#45;&gt;N6 -->\n",
       "<g id=\"edge12\" class=\"edge\">\n",
       "<title>N0-&gt;N6</title>\n",
       "<path fill=\"none\" stroke=\"black\" d=\"M500.34,-353.97C530.48,-340.38 571.99,-321.67 604.17,-307.17\"/>\n",
       "<polygon fill=\"black\" stroke=\"black\" points=\"605.73,-310.3 613.41,-303 602.85,-303.92 605.73,-310.3\"/>\n",
       "<text text-anchor=\"middle\" x=\"598.35\" y=\"-324.8\" font-family=\"Times,serif\" font-size=\"14.00\">Faux</text>\n",
       "</g>\n",
       "<!-- N2 -->\n",
       "<g id=\"node3\" class=\"node\">\n",
       "<title>N2</title>\n",
       "<ellipse fill=\"none\" stroke=\"black\" cx=\"38.35\" cy=\"-195\" rx=\"38.19\" ry=\"18\"/>\n",
       "<text text-anchor=\"middle\" x=\"38.35\" y=\"-191.3\" font-family=\"Times,serif\" font-size=\"14.00\">non</text>\n",
       "</g>\n",
       "<!-- N1&#45;&gt;N2 -->\n",
       "<g id=\"edge3\" class=\"edge\">\n",
       "<title>N1-&gt;N2</title>\n",
       "<path fill=\"none\" stroke=\"black\" d=\"M220.16,-264.91C183.24,-251.03 131.05,-231.37 85.35,-214 82.5,-212.92 79.55,-211.8 76.59,-210.67\"/>\n",
       "<polygon fill=\"black\" stroke=\"black\" points=\"77.76,-207.37 67.17,-207.07 75.26,-213.9 77.76,-207.37\"/>\n",
       "<text text-anchor=\"middle\" x=\"200.35\" y=\"-235.8\" font-family=\"Times,serif\" font-size=\"14.00\">Vrai</text>\n",
       "</g>\n",
       "<!-- N3 -->\n",
       "<g id=\"node4\" class=\"node\">\n",
       "<title>N3</title>\n",
       "<polygon fill=\"none\" stroke=\"black\" points=\"453.85,-214 94.85,-214 94.85,-176 453.85,-176 453.85,-214\"/>\n",
       "<text text-anchor=\"middle\" x=\"274.35\" y=\"-198.8\" font-family=\"Times,serif\" font-size=\"14.00\">temperature &gt; 21</text>\n",
       "<text text-anchor=\"middle\" x=\"274.35\" y=\"-183.8\" font-family=\"Times,serif\" font-size=\"14.00\">Gini = 0.3333333333333333</text>\n",
       "</g>\n",
       "<!-- N1&#45;&gt;N3 -->\n",
       "<g id=\"edge4\" class=\"edge\">\n",
       "<title>N1-&gt;N3</title>\n",
       "<path fill=\"none\" stroke=\"black\" d=\"M269.59,-264.97C270.4,-253.19 271.48,-237.56 272.4,-224.16\"/>\n",
       "<polygon fill=\"black\" stroke=\"black\" points=\"275.91,-224.22 273.1,-214 268.93,-223.74 275.91,-224.22\"/>\n",
       "<text text-anchor=\"middle\" x=\"301.35\" y=\"-235.8\" font-family=\"Times,serif\" font-size=\"14.00\">Faux</text>\n",
       "</g>\n",
       "<!-- N4 -->\n",
       "<g id=\"node5\" class=\"node\">\n",
       "<title>N4</title>\n",
       "<ellipse fill=\"none\" stroke=\"black\" cx=\"226.35\" cy=\"-106\" rx=\"38.19\" ry=\"18\"/>\n",
       "<text text-anchor=\"middle\" x=\"226.35\" y=\"-102.3\" font-family=\"Times,serif\" font-size=\"14.00\">non</text>\n",
       "</g>\n",
       "<!-- N3&#45;&gt;N4 -->\n",
       "<g id=\"edge1\" class=\"edge\">\n",
       "<title>N3-&gt;N4</title>\n",
       "<path fill=\"none\" stroke=\"black\" d=\"M247.94,-175.81C242.28,-170.69 236.94,-164.67 233.35,-158 229.52,-150.88 227.52,-142.44 226.54,-134.48\"/>\n",
       "<polygon fill=\"black\" stroke=\"black\" points=\"230.03,-134.17 225.77,-124.47 223.05,-134.71 230.03,-134.17\"/>\n",
       "<text text-anchor=\"middle\" x=\"262.35\" y=\"-146.8\" font-family=\"Times,serif\" font-size=\"14.00\">Vrai</text>\n",
       "</g>\n",
       "<!-- N5 -->\n",
       "<g id=\"node6\" class=\"node\">\n",
       "<title>N5</title>\n",
       "<ellipse fill=\"none\" stroke=\"black\" cx=\"321.35\" cy=\"-106\" rx=\"38.19\" ry=\"18\"/>\n",
       "<text text-anchor=\"middle\" x=\"321.35\" y=\"-102.3\" font-family=\"Times,serif\" font-size=\"14.00\">oui</text>\n",
       "</g>\n",
       "<!-- N3&#45;&gt;N5 -->\n",
       "<g id=\"edge2\" class=\"edge\">\n",
       "<title>N3-&gt;N5</title>\n",
       "<path fill=\"none\" stroke=\"black\" d=\"M284.09,-175.97C290.86,-163.44 299.98,-146.54 307.51,-132.61\"/>\n",
       "<polygon fill=\"black\" stroke=\"black\" points=\"310.74,-133.99 312.42,-123.53 304.58,-130.67 310.74,-133.99\"/>\n",
       "<text text-anchor=\"middle\" x=\"330.35\" y=\"-146.8\" font-family=\"Times,serif\" font-size=\"14.00\">Faux</text>\n",
       "</g>\n",
       "<!-- N7 -->\n",
       "<g id=\"node8\" class=\"node\">\n",
       "<title>N7</title>\n",
       "<polygon fill=\"none\" stroke=\"black\" points=\"831.85,-214 472.85,-214 472.85,-176 831.85,-176 831.85,-214\"/>\n",
       "<text text-anchor=\"middle\" x=\"652.35\" y=\"-198.8\" font-family=\"Times,serif\" font-size=\"14.00\">humidite &gt; 70</text>\n",
       "<text text-anchor=\"middle\" x=\"652.35\" y=\"-183.8\" font-family=\"Times,serif\" font-size=\"14.00\">Gini = 0.3333333333333333</text>\n",
       "</g>\n",
       "<!-- N6&#45;&gt;N7 -->\n",
       "<g id=\"edge9\" class=\"edge\">\n",
       "<title>N6-&gt;N7</title>\n",
       "<path fill=\"none\" stroke=\"black\" d=\"M653.14,-264.97C653,-253.19 652.82,-237.56 652.67,-224.16\"/>\n",
       "<polygon fill=\"black\" stroke=\"black\" points=\"656.17,-223.96 652.55,-214 649.17,-224.04 656.17,-223.96\"/>\n",
       "<text text-anchor=\"middle\" x=\"682.35\" y=\"-235.8\" font-family=\"Times,serif\" font-size=\"14.00\">Vrai</text>\n",
       "</g>\n",
       "<!-- N12 -->\n",
       "<g id=\"node13\" class=\"node\">\n",
       "<title>N12</title>\n",
       "<ellipse fill=\"none\" stroke=\"black\" cx=\"888.35\" cy=\"-195\" rx=\"38.19\" ry=\"18\"/>\n",
       "<text text-anchor=\"middle\" x=\"888.35\" y=\"-191.3\" font-family=\"Times,serif\" font-size=\"14.00\">oui</text>\n",
       "</g>\n",
       "<!-- N6&#45;&gt;N12 -->\n",
       "<g id=\"edge10\" class=\"edge\">\n",
       "<title>N6-&gt;N12</title>\n",
       "<path fill=\"none\" stroke=\"black\" d=\"M702.59,-264.91C740.31,-251.03 793.64,-231.37 840.35,-214 843.43,-212.85 846.63,-211.66 849.84,-210.46\"/>\n",
       "<polygon fill=\"black\" stroke=\"black\" points=\"851.28,-213.66 859.42,-206.88 848.83,-207.1 851.28,-213.66\"/>\n",
       "<text text-anchor=\"middle\" x=\"818.35\" y=\"-235.8\" font-family=\"Times,serif\" font-size=\"14.00\">Faux</text>\n",
       "</g>\n",
       "<!-- N8 -->\n",
       "<g id=\"node9\" class=\"node\">\n",
       "<title>N8</title>\n",
       "<ellipse fill=\"none\" stroke=\"black\" cx=\"572.35\" cy=\"-106\" rx=\"38.19\" ry=\"18\"/>\n",
       "<text text-anchor=\"middle\" x=\"572.35\" y=\"-102.3\" font-family=\"Times,serif\" font-size=\"14.00\">non</text>\n",
       "</g>\n",
       "<!-- N7&#45;&gt;N8 -->\n",
       "<g id=\"edge7\" class=\"edge\">\n",
       "<title>N7-&gt;N8</title>\n",
       "<path fill=\"none\" stroke=\"black\" d=\"M635.77,-175.97C623.65,-162.79 607.09,-144.78 593.93,-130.47\"/>\n",
       "<polygon fill=\"black\" stroke=\"black\" points=\"596.36,-127.95 587.02,-122.96 591.21,-132.69 596.36,-127.95\"/>\n",
       "<text text-anchor=\"middle\" x=\"646.35\" y=\"-146.8\" font-family=\"Times,serif\" font-size=\"14.00\">Vrai</text>\n",
       "</g>\n",
       "<!-- N9 -->\n",
       "<g id=\"node10\" class=\"node\">\n",
       "<title>N9</title>\n",
       "<polygon fill=\"none\" stroke=\"black\" points=\"987.85,-125 628.85,-125 628.85,-87 987.85,-87 987.85,-125\"/>\n",
       "<text text-anchor=\"middle\" x=\"808.35\" y=\"-109.8\" font-family=\"Times,serif\" font-size=\"14.00\">temperature &gt; 18</text>\n",
       "<text text-anchor=\"middle\" x=\"808.35\" y=\"-94.8\" font-family=\"Times,serif\" font-size=\"14.00\">Gini = 0.3333333333333333</text>\n",
       "</g>\n",
       "<!-- N7&#45;&gt;N9 -->\n",
       "<g id=\"edge8\" class=\"edge\">\n",
       "<title>N7-&gt;N9</title>\n",
       "<path fill=\"none\" stroke=\"black\" d=\"M684.67,-175.97C708.62,-162.62 741.44,-144.31 767.25,-129.92\"/>\n",
       "<polygon fill=\"black\" stroke=\"black\" points=\"769.04,-132.93 776.06,-125 765.63,-126.82 769.04,-132.93\"/>\n",
       "<text text-anchor=\"middle\" x=\"769.35\" y=\"-146.8\" font-family=\"Times,serif\" font-size=\"14.00\">Faux</text>\n",
       "</g>\n",
       "<!-- N10 -->\n",
       "<g id=\"node11\" class=\"node\">\n",
       "<title>N10</title>\n",
       "<ellipse fill=\"none\" stroke=\"black\" cx=\"761.35\" cy=\"-18\" rx=\"38.19\" ry=\"18\"/>\n",
       "<text text-anchor=\"middle\" x=\"761.35\" y=\"-14.3\" font-family=\"Times,serif\" font-size=\"14.00\">oui</text>\n",
       "</g>\n",
       "<!-- N9&#45;&gt;N10 -->\n",
       "<g id=\"edge5\" class=\"edge\">\n",
       "<title>N9-&gt;N10</title>\n",
       "<path fill=\"none\" stroke=\"black\" d=\"M789.39,-86.77C784.61,-81.4 779.85,-75.28 776.35,-69 772.42,-61.96 769.41,-53.77 767.15,-46.08\"/>\n",
       "<polygon fill=\"black\" stroke=\"black\" points=\"770.53,-45.18 764.61,-36.4 763.76,-46.96 770.53,-45.18\"/>\n",
       "<text text-anchor=\"middle\" x=\"805.35\" y=\"-57.8\" font-family=\"Times,serif\" font-size=\"14.00\">Vrai</text>\n",
       "</g>\n",
       "<!-- N11 -->\n",
       "<g id=\"node12\" class=\"node\">\n",
       "<title>N11</title>\n",
       "<ellipse fill=\"none\" stroke=\"black\" cx=\"856.35\" cy=\"-18\" rx=\"38.19\" ry=\"18\"/>\n",
       "<text text-anchor=\"middle\" x=\"856.35\" y=\"-14.3\" font-family=\"Times,serif\" font-size=\"14.00\">non</text>\n",
       "</g>\n",
       "<!-- N9&#45;&gt;N11 -->\n",
       "<g id=\"edge6\" class=\"edge\">\n",
       "<title>N9-&gt;N11</title>\n",
       "<path fill=\"none\" stroke=\"black\" d=\"M822.62,-86.82C826.66,-81.26 830.9,-75.02 834.35,-69 838.59,-61.59 842.57,-53.21 845.94,-45.46\"/>\n",
       "<polygon fill=\"black\" stroke=\"black\" points=\"849.23,-46.67 849.87,-36.1 842.77,-43.97 849.23,-46.67\"/>\n",
       "<text text-anchor=\"middle\" x=\"871.35\" y=\"-57.8\" font-family=\"Times,serif\" font-size=\"14.00\">Faux</text>\n",
       "</g>\n",
       "</g>\n",
       "</svg>"
      ],
      "text/plain": [
       "<IPython.core.display.SVG object>"
      ]
     },
     "metadata": {},
     "output_type": "display_data"
    }
   ],
   "source": [
    "# C'est juste une visualisation du graphe\n",
    "# Si ça ne marche pas, ce n'ai pas grave\n",
    "try:\n",
    "    from IPython.display import SVG\n",
    "    from graphviz import Source\n",
    "    from IPython.display import display\n",
    "    \n",
    "    graph = Source(cart_classifieur.graphviz())\n",
    "    display(SVG(graph.pipe(format='svg')))\n",
    "\n",
    "except ImportError:\n",
    "    print(\"il faut installer graphviz\")"
   ]
  },
  {
   "cell_type": "markdown",
   "metadata": {},
   "source": [
    "## II. Application et analyse\n",
    "\n",
    "On va utiliser le dataset [Cars Data](https://www.kaggle.com/abineshkumark/carsdata) pour classer les voitures en trois classes : US., Euroupe. ou Japan. "
   ]
  },
  {
   "cell_type": "code",
   "execution_count": 4,
   "metadata": {},
   "outputs": [
    {
     "data": {
      "text/html": [
       "<div>\n",
       "<style scoped>\n",
       "    .dataframe tbody tr th:only-of-type {\n",
       "        vertical-align: middle;\n",
       "    }\n",
       "\n",
       "    .dataframe tbody tr th {\n",
       "        vertical-align: top;\n",
       "    }\n",
       "\n",
       "    .dataframe thead th {\n",
       "        text-align: right;\n",
       "    }\n",
       "</style>\n",
       "<table border=\"1\" class=\"dataframe\">\n",
       "  <thead>\n",
       "    <tr style=\"text-align: right;\">\n",
       "      <th></th>\n",
       "      <th>mpg</th>\n",
       "      <th>cylinders</th>\n",
       "      <th>cubicinches</th>\n",
       "      <th>hp</th>\n",
       "      <th>weightlbs</th>\n",
       "      <th>time-to-60</th>\n",
       "      <th>year</th>\n",
       "      <th>brand</th>\n",
       "    </tr>\n",
       "  </thead>\n",
       "  <tbody>\n",
       "    <tr>\n",
       "      <th>0</th>\n",
       "      <td>14.0</td>\n",
       "      <td>8</td>\n",
       "      <td>350.0</td>\n",
       "      <td>165</td>\n",
       "      <td>4209.0</td>\n",
       "      <td>12</td>\n",
       "      <td>1972</td>\n",
       "      <td>US.</td>\n",
       "    </tr>\n",
       "    <tr>\n",
       "      <th>1</th>\n",
       "      <td>31.9</td>\n",
       "      <td>4</td>\n",
       "      <td>89.0</td>\n",
       "      <td>71</td>\n",
       "      <td>1925.0</td>\n",
       "      <td>14</td>\n",
       "      <td>1980</td>\n",
       "      <td>Europe.</td>\n",
       "    </tr>\n",
       "    <tr>\n",
       "      <th>2</th>\n",
       "      <td>17.0</td>\n",
       "      <td>8</td>\n",
       "      <td>302.0</td>\n",
       "      <td>140</td>\n",
       "      <td>3449.0</td>\n",
       "      <td>11</td>\n",
       "      <td>1971</td>\n",
       "      <td>US.</td>\n",
       "    </tr>\n",
       "    <tr>\n",
       "      <th>3</th>\n",
       "      <td>15.0</td>\n",
       "      <td>8</td>\n",
       "      <td>400.0</td>\n",
       "      <td>150</td>\n",
       "      <td>3761.0</td>\n",
       "      <td>10</td>\n",
       "      <td>1971</td>\n",
       "      <td>US.</td>\n",
       "    </tr>\n",
       "    <tr>\n",
       "      <th>4</th>\n",
       "      <td>30.5</td>\n",
       "      <td>4</td>\n",
       "      <td>98.0</td>\n",
       "      <td>63</td>\n",
       "      <td>2051.0</td>\n",
       "      <td>17</td>\n",
       "      <td>1978</td>\n",
       "      <td>US.</td>\n",
       "    </tr>\n",
       "  </tbody>\n",
       "</table>\n",
       "</div>"
      ],
      "text/plain": [
       "    mpg  cylinders  cubicinches   hp  weightlbs  time-to-60  year    brand\n",
       "0  14.0          8        350.0  165     4209.0          12  1972      US.\n",
       "1  31.9          4         89.0   71     1925.0          14  1980  Europe.\n",
       "2  17.0          8        302.0  140     3449.0          11  1971      US.\n",
       "3  15.0          8        400.0  150     3761.0          10  1971      US.\n",
       "4  30.5          4         98.0   63     2051.0          17  1978      US."
      ]
     },
     "execution_count": 4,
     "metadata": {},
     "output_type": "execute_result"
    }
   ],
   "source": [
    "# Lecture du dataset\n",
    "cars_data = pd.read_csv('datasets/cars.csv', skipinitialspace=True)\n",
    "# On a remarqué que le type de cette caractéristique n'est pas bien détecté\n",
    "cars_data[\"cubicinches\"] = pd.to_numeric(cars_data[\"cubicinches\"])\n",
    "# supprimer les valeurs absentes \n",
    "cars_data.dropna(inplace=True)\n",
    "# Yay! We did it! Voici les premières lignes du dataset\n",
    "cars_data.head()"
   ]
  },
  {
   "cell_type": "code",
   "execution_count": 5,
   "metadata": {},
   "outputs": [
    {
     "data": {
      "text/plain": [
       "((204, 7), (52, 7))"
      ]
     },
     "execution_count": 5,
     "metadata": {},
     "output_type": "execute_result"
    }
   ],
   "source": [
    "from sklearn.model_selection import train_test_split\n",
    "\n",
    "X_cars = cars_data.values[:, :-1]\n",
    "Y_cars = cars_data.values[:,-1]\n",
    "\n",
    "X_cars_train, X_cars_test, Y_cars_train, Y_cars_test = train_test_split(X_cars, Y_cars, test_size=0.2, random_state=0) \n",
    "\n",
    "X_cars_train.shape, X_cars_test.shape"
   ]
  },
  {
   "cell_type": "markdown",
   "metadata": {},
   "source": [
    "### II.1. Arbres de décision\n",
    "\n",
    "Dans l'implémentation Scikit-learn des arbres de décision (**DecisionTreeClassifier**), les caractéristiques sont permutées d'une façon aléatoire à chaque division. Ceci rendre l'arbre non déterministe. Pour arrêter ça, on utilise la proporiété **random_state=0**\n",
    "\n",
    "#### II.1.1. Critère de choix des caractéristiques\n",
    "\n",
    "Nous avons entraîné deux arbres de décision CART avec les critères de division : \n",
    "- Entropy\n",
    "- Gini\n",
    "\n",
    "**TODO : Analyser les résultats**\n",
    "- Que remarquez-vous concernant la structure des deux arbres : ENTOPY (à gauche) et GINI (à droit) ? La structure veut dire : la profendeur et le nombre des feuilles.\n",
    "- Justifier le temps d'entraînement et de test en se basant sur les deux algorithmes et les deux structures discutées.\n",
    "\n",
    "**Réponse**\n",
    "- On remarque que les deux arbres ont la méme profondeur, et un nombre de feuilles different, pour l'arbre qui est à gauche (Entropy), le nombre de feuilles et de 31 et pour l'arbre qui est à droite (Gini), le nombre est de 33 feuilles.  \n",
    "- le temps d'entrainement pour l'algorithme qui utilise l'entropie est petit par rapport à celui qui utilise Gini, ceci revient au type de données à entrainer (nominal pour l'entropie et numerique pour Gini), pour le temps de test, pareil, celui de l'entropie est plus petit que celui de Gini, ceci revient à la structure de l'arbre, l'arbre de l'entropie contient 31 feuilles, et celui de Gini contient 33 feuilles. On remarque aussi que F1 score pour l'entropie est plus élevé que celui de Gini car l'entropie utilise le logarithme ce qui augmente la precision.  "
   ]
  },
  {
   "cell_type": "code",
   "execution_count": 6,
   "metadata": {},
   "outputs": [
    {
     "name": "stdout",
     "output_type": "stream",
     "text": [
      "Fini\n"
     ]
    }
   ],
   "source": [
    "from sklearn.tree import DecisionTreeClassifier\n",
    "from sklearn.metrics import f1_score\n",
    "import timeit\n",
    "from sklearn import tree\n",
    "\n",
    "Xchoix_train = X_cars_train\n",
    "Ychoix_train = Y_cars_train\n",
    "Xchoix_test = X_cars_test\n",
    "Ychoix_test = Y_cars_test\n",
    "fnames = cars_data.columns\n",
    "\n",
    "#Xchoix_train = X_njouer[4:, :]\n",
    "#Ychoix_train = Y_njouer[4:]\n",
    "#Xchoix_test = X_njouer[:4, :]\n",
    "#Ychoix_test = Y_njouer[:4]\n",
    "#fnames = [\"temperature\", \"humidite\", \"vent\"]\n",
    "\n",
    "\n",
    "gini_stats = []\n",
    "entropy_stats = []\n",
    "gini_classifieur = DecisionTreeClassifier(criterion=\"gini\", random_state=0)\n",
    "entropy_classifieur = DecisionTreeClassifier(criterion=\"entropy\", random_state=0)\n",
    "\n",
    "# ============ GINI ====================\n",
    "# ............ Entraînement ............\n",
    "temps_debut = timeit.default_timer()\n",
    "gini_classifieur.fit(Xchoix_train, Ychoix_train)\n",
    "gini_stats.append(timeit.default_timer() - temps_debut)\n",
    "# ..... Evaluation entrainement ........\n",
    "gini_stats.append(f1_score(Ychoix_train, gini_classifieur.predict(Xchoix_train), average=\"micro\"))\n",
    "# ................ Test ................\n",
    "temps_debut = timeit.default_timer()\n",
    "Ychoix_pred = gini_classifieur.predict(Xchoix_test)\n",
    "gini_stats.append(timeit.default_timer() - temps_debut)\n",
    "# ........... Evaluation test ...........\n",
    "gini_stats.append(f1_score(Ychoix_test, Ychoix_pred, average=\"micro\"))\n",
    "\n",
    "# =========== Entropy ==================\n",
    "# ............ Entraînement ............\n",
    "temps_debut = timeit.default_timer()\n",
    "entropy_classifieur.fit(Xchoix_train, Ychoix_train)\n",
    "entropy_stats.append(timeit.default_timer() - temps_debut)\n",
    "# ..... Evaluation entrainement ........\n",
    "entropy_stats.append(f1_score(Ychoix_train, entropy_classifieur.predict(Xchoix_train), average=\"micro\"))\n",
    "# ................ Test ................\n",
    "temps_debut = timeit.default_timer()\n",
    "Ychoix_pred = entropy_classifieur.predict(Xchoix_test)\n",
    "entropy_stats.append(timeit.default_timer() - temps_debut)\n",
    "# ........... Evaluation test ...........\n",
    "entropy_stats.append(f1_score(Ychoix_test, Ychoix_pred, average=\"micro\"))\n",
    "\n",
    "print(\"Fini\")"
   ]
  },
  {
   "cell_type": "code",
   "execution_count": 17,
   "metadata": {},
   "outputs": [
    {
     "data": {
      "image/png": "[encoded data removed]",
      "text/plain": [
       "<Figure size 1440x864 with 2 Axes>"
      ]
     },
     "metadata": {
      "needs_background": "light"
     },
     "output_type": "display_data"
    }
   ],
   "source": [
    "fig, (ax1, ax2) = plt.subplots(1,2)\n",
    "fig.set_figwidth(20)\n",
    "fig.set_figheight(12)\n",
    "tree.plot_tree(entropy_classifieur, ax=ax1, feature_names=fnames, filled=True)\n",
    "tree.plot_tree(gini_classifieur, ax=ax2, feature_names=fnames, filled=True)\n",
    "plt.show()"
   ]
  },
  {
   "cell_type": "code",
   "execution_count": 7,
   "metadata": {},
   "outputs": [
    {
     "data": {
      "text/html": [
       "<div>\n",
       "<style scoped>\n",
       "    .dataframe tbody tr th:only-of-type {\n",
       "        vertical-align: middle;\n",
       "    }\n",
       "\n",
       "    .dataframe tbody tr th {\n",
       "        vertical-align: top;\n",
       "    }\n",
       "\n",
       "    .dataframe thead th {\n",
       "        text-align: right;\n",
       "    }\n",
       "</style>\n",
       "<table border=\"1\" class=\"dataframe\">\n",
       "  <thead>\n",
       "    <tr style=\"text-align: right;\">\n",
       "      <th></th>\n",
       "      <th>Criteres</th>\n",
       "      <th>Entropie</th>\n",
       "      <th>Gini</th>\n",
       "    </tr>\n",
       "  </thead>\n",
       "  <tbody>\n",
       "    <tr>\n",
       "      <th>0</th>\n",
       "      <td>Temps Entrainement</td>\n",
       "      <td>0.003037</td>\n",
       "      <td>0.013582</td>\n",
       "    </tr>\n",
       "    <tr>\n",
       "      <th>1</th>\n",
       "      <td>F1 Entrainement</td>\n",
       "      <td>1.000000</td>\n",
       "      <td>1.000000</td>\n",
       "    </tr>\n",
       "    <tr>\n",
       "      <th>2</th>\n",
       "      <td>Temps Test</td>\n",
       "      <td>0.000725</td>\n",
       "      <td>0.000838</td>\n",
       "    </tr>\n",
       "    <tr>\n",
       "      <th>3</th>\n",
       "      <td>F1 Test</td>\n",
       "      <td>0.826923</td>\n",
       "      <td>0.788462</td>\n",
       "    </tr>\n",
       "  </tbody>\n",
       "</table>\n",
       "</div>"
      ],
      "text/plain": [
       "             Criteres  Entropie      Gini\n",
       "0  Temps Entrainement  0.003037  0.013582\n",
       "1     F1 Entrainement  1.000000  1.000000\n",
       "2          Temps Test  0.000725  0.000838\n",
       "3             F1 Test  0.826923  0.788462"
      ]
     },
     "execution_count": 7,
     "metadata": {},
     "output_type": "execute_result"
    }
   ],
   "source": [
    "pd.DataFrame({\n",
    "    \"Criteres\" : [\"Temps Entrainement\", \"F1 Entrainement\", \"Temps Test\", \"F1 Test\"],\n",
    "    \"Entropie\" : entropy_stats,\n",
    "    \"Gini\" : gini_stats\n",
    "})"
   ]
  },
  {
   "cell_type": "markdown",
   "metadata": {},
   "source": [
    "#### II.1.2. Profondeur maximale de l'arbre\n",
    "\n",
    "Pour chaque profondeur, on entraîne un modèle et on mesure sa convergence et sa performance en terme du score F1. \n",
    "\n",
    "**TODO : Analyser les résultats**\n",
    "- Que remarquez-vous ? (Est-ce que plus de profondeur veut dire le modèle va généraliser mieux)\n",
    "- Justifier\n",
    "\n",
    "**Réponse**\n",
    "- On remarque que la performance de l'entrainement et des tests augmente avec l'augmentation de la profondeur max de l'arbre et  se stabilise à partir de le  profondeur=15. Et donc une profondeur augmentée ne signifie pas une meuilleure généralisation du modele(à partir d'un certain sueil l'augmentation du profondeur ne devient plus significatif en termes de convergence ).\n",
    "- Ceci revient au phénoméne d'overfitting subis par les données, quand la performance du modéle dégrade sur les données du test, ça veut dire qu'il ya un overfitting sur les données de l'entrainement. La stabilité du f1 score signifie que les feuilles de l'arbre généré par le modéle contiennet toutes une seule classe."
   ]
  },
  {
   "cell_type": "code",
   "execution_count": 8,
   "metadata": {},
   "outputs": [
    {
     "data": {
      "image/png": "[encoded data removed]",
      "text/plain": [
       "<Figure size 432x288 with 1 Axes>"
      ]
     },
     "metadata": {
      "needs_background": "light"
     },
     "output_type": "display_data"
    }
   ],
   "source": [
    "MAX_PROF = 40\n",
    "\n",
    "MAX_PROF_lst = range(1, MAX_PROF+1, 1)\n",
    "\n",
    "f1_train_pm = []\n",
    "f1_test_pm = []\n",
    "for max_prof in MAX_PROF_lst:\n",
    "    classifieur = DecisionTreeClassifier(random_state=0, max_depth=max_prof)\n",
    "    classifieur.fit(X_cars_train, Y_cars_train)\n",
    "    f1_train_pm.append(f1_score(Y_cars_train, classifieur.predict(X_cars_train), average=\"micro\"))\n",
    "    f1_test_pm.append(f1_score(Y_cars_test, classifieur.predict(X_cars_test), average=\"micro\"))\n",
    "\n",
    "plt.plot(MAX_PROF_lst, f1_train_pm, color=\"blue\", label=\"Convergence (entrainement)\")\n",
    "plt.plot(MAX_PROF_lst, f1_test_pm, color=\"red\", label=\"Test\")\n",
    "plt.ylabel(\"F1\")\n",
    "plt.xlabel(\"Profondeur max de l'arbre\")\n",
    "plt.legend()\n",
    "#plt.rcParams[\"figure.figsize\"] = (3,7)\n",
    "plt.show()"
   ]
  },
  {
   "cell_type": "markdown",
   "metadata": {},
   "source": [
    "#### II.1.3. Observations minimales dans les feuilles\n",
    "\n",
    "Pour chaque nombre des observations minimales dans les feuilles, on entraîne un modèle et on mesure sa convergence et sa performance en terme du score F1. \n",
    "\n",
    "**TODO : Analyser les résultats**\n",
    "- Que remarquez-vous ?\n",
    "- Justifier pourquoi la performance se diminue (en indiquant si ce critère d'arrêt garantie un apprentissage normale ou peut causer un sur-apprentissage ou sous-apprentissage)\n",
    "\n",
    "**Réponse**\n",
    "- On remarque que la performance et la convergence du modèle diminuent avec l'augmentation du nombre d'observations minimales sur les feuilles.\n",
    "- La performance se diminue car l'arbre généré par le modéle qui a pour critére d'arrét un nombre élevé d'observations minimales sur les feuilles va contenir un nombre réduit de feuilles, et chaque feuille va contenir plusieurs classes, donc les classes qui ont un degré élevé de similitude vont étre considérées la méme classe. Donc on peut dire que ce critère d'arrét peut causer un sous apprentissage du modéle sur les données."
   ]
  },
  {
   "cell_type": "code",
   "execution_count": 9,
   "metadata": {},
   "outputs": [
    {
     "data": {
      "image/png": "[encoded data removed]",
      "text/plain": [
       "<Figure size 432x288 with 1 Axes>"
      ]
     },
     "metadata": {
      "needs_background": "light"
     },
     "output_type": "display_data"
    }
   ],
   "source": [
    "MIN_FEUILLE = 40\n",
    "\n",
    "MIN_FEUILLE_lst = range(1, MIN_FEUILLE+1, 1)\n",
    "\n",
    "f1_train_mf = []\n",
    "f1_test_mf = []\n",
    "for min_feuille in MIN_FEUILLE_lst:\n",
    "    classifieur = DecisionTreeClassifier(random_state=0, min_samples_leaf=min_feuille)\n",
    "    classifieur.fit(X_cars_train, Y_cars_train)\n",
    "    f1_train_mf.append(f1_score(Y_cars_train, classifieur.predict(X_cars_train), average=\"micro\"))\n",
    "    f1_test_mf.append(f1_score(Y_cars_test, classifieur.predict(X_cars_test), average=\"micro\"))\n",
    "\n",
    "plt.plot(MIN_FEUILLE_lst, f1_train_mf, color=\"blue\", label=\"Convergence (entrainement)\")\n",
    "plt.plot(MIN_FEUILLE_lst, f1_test_mf, color=\"red\", label=\"Test\")\n",
    "plt.ylabel(\"F1\")\n",
    "plt.xlabel(\"Observations minimales dans les feuilles\")\n",
    "plt.legend()\n",
    "#plt.rcParams[\"figure.figsize\"] = (3,7)\n",
    "plt.show()"
   ]
  },
  {
   "cell_type": "markdown",
   "metadata": {},
   "source": [
    "### II.2. Forêts aléatoires\n",
    "\n",
    "#### II.2.1. Nombre des arbres\n",
    "\n",
    "Pour chaque nombre des arbres dans le forêt, on entraîne un modèle et on mesure sa convergence et sa performance en terme du score F1. \n",
    "\n",
    "**TODO : Analyser les résultats**\n",
    "- Que remarquez-vous ? (convergence et généralisation)\n",
    "\n",
    "**Réponse**\n",
    "- On remarque que pour les données d'entrainement, le F1 score augmente puis se stabilise(Convergence), et pour les données de test, le F1 score est distabilisé (oscillations) tout au long de l'augmentation du nombre des arbres."
   ]
  },
  {
   "cell_type": "code",
   "execution_count": 10,
   "metadata": {},
   "outputs": [
    {
     "data": {
      "image/png": "[encoded data removed]",
      "text/plain": [
       "<Figure size 432x288 with 1 Axes>"
      ]
     },
     "metadata": {
      "needs_background": "light"
     },
     "output_type": "display_data"
    }
   ],
   "source": [
    "from sklearn.ensemble import RandomForestClassifier\n",
    "\n",
    "MAX_ARBRE = 100\n",
    "\n",
    "MAX_ARBRE_lst = range(1, MAX_ARBRE+1, 1)\n",
    "\n",
    "f1_train_nbarbres = []\n",
    "f1_test_nbarbres = []\n",
    "for max_arbres in MAX_ARBRE_lst:\n",
    "    classifieur = RandomForestClassifier(n_estimators=max_arbres)\n",
    "    classifieur.fit(X_cars_train, Y_cars_train)\n",
    "    f1_train_nbarbres.append(f1_score(Y_cars_train, classifieur.predict(X_cars_train), average=\"micro\"))\n",
    "    f1_test_nbarbres.append(f1_score(Y_cars_test, classifieur.predict(X_cars_test), average=\"micro\"))\n",
    "\n",
    "plt.plot(MAX_ARBRE_lst, f1_train_nbarbres, color=\"blue\", label=\"Convergence (entrainement)\")\n",
    "plt.plot(MAX_ARBRE_lst, f1_test_nbarbres, color=\"red\", label=\"Test\")\n",
    "plt.ylabel(\"F1\")\n",
    "plt.xlabel(\"Nombre des arbres\")\n",
    "plt.legend()\n",
    "#plt.rcParams[\"figure.figsize\"] = (3,7)\n",
    "plt.show()"
   ]
  },
  {
   "cell_type": "markdown",
   "metadata": {},
   "source": [
    "#### II.2.2. Profondeur maximale des arbres\n",
    "\n",
    "Pour chaque profondeur, on entraîne un forêt et on mesure sa convergence et sa performance en terme du score F1. On compare les résultats avec les arbres équivalents (avec la même profondeur)\n",
    "\n",
    "**TODO : Analyser les résultats**\n",
    "- Comparer la convergence des forêts et des arbres en terme de la profondeur maximale\n",
    "- Comparer la généralisation des forêts et des arbres en terme de la profondeur maximale\n",
    "- Justifier ces résultats (en indiquant pourquoi nous avons des oscillations dans F1 test des forêts)\n",
    "\n",
    "**Réponse**\n",
    "- On remarque qu'en terme de convergence, la forét et l'arbre sont les mémes. Le f1 score augmente avec l'augmentation des profondeurs des arbres.\n",
    "- Comme il est déja remarqué dans les parties précédentes du tp, le f1 score sur les données de test pour le modèle de l'arbre subis une légére oscillations puis se stabilise avec l'augmetation de la profondeur de l'arbre, tandis que pour le modèle des foréts, le f1 score pour les données du test subis des oscillations tout au long de l'augmentation de la profondeur des arbres.\n",
    "- Justification: La performance et la generalisation dans le modèle de la forét sont plus grandes par rapport au modèle de l arbre de decision, et ceci revient au fait que dans le premier le choix se faut par vote, ce qui garantie le choix optimal par rapport au choix fait par un seul arbre quoi que se soit sa profondeur. En ce qui concerne les oscillations, ces derniers se justifie par le fait que les forets combinent plusieurs decisions tandis que les arbres combinent une seule decision"
   ]
  },
  {
   "cell_type": "code",
   "execution_count": 11,
   "metadata": {},
   "outputs": [
    {
     "data": {
      "image/png": "[encoded data removed]",
      "text/plain": [
       "<Figure size 432x288 with 1 Axes>"
      ]
     },
     "metadata": {
      "needs_background": "light"
     },
     "output_type": "display_data"
    }
   ],
   "source": [
    "f1_train_pm_foret = []\n",
    "f1_test_pm_foret = []\n",
    "for max_prof in MAX_PROF_lst:\n",
    "    classifieur = RandomForestClassifier(n_estimators=40, max_depth=max_prof)\n",
    "    classifieur.fit(X_cars_train, Y_cars_train)\n",
    "    f1_train_pm_foret.append(f1_score(Y_cars_train, classifieur.predict(X_cars_train), average=\"micro\"))\n",
    "    f1_test_pm_foret.append(f1_score(Y_cars_test, classifieur.predict(X_cars_test), average=\"micro\"))\n",
    "\n",
    "plt.plot(MAX_PROF_lst, f1_train_pm_foret, color=\"blue\", label=\"Convergence (Foret)\")\n",
    "plt.plot(MAX_PROF_lst, f1_test_pm_foret, color=\"red\", label=\"Test (Foret)\")\n",
    "plt.plot(MAX_PROF_lst, f1_train_pm, color=\"green\", label=\"Convergence (Arbre)\")\n",
    "plt.plot(MAX_PROF_lst, f1_test_pm, color=\"orange\", label=\"Test (Arbre)\")\n",
    "plt.ylabel(\"F1\")\n",
    "plt.xlabel(\"Profondeur max de l'arbre\")\n",
    "plt.legend()\n",
    "#plt.rcParams[\"figure.figsize\"] = (3,7)\n",
    "plt.show()"
   ]
  },
  {
   "cell_type": "markdown",
   "metadata": {},
   "source": [
    "#### II.2.3. Observations minimales dans les feuilles\n",
    "\n",
    "Pour chaque nombre minimale des observations dans les feuilles, on entraîne un forêt et on mesure sa convergence et sa performance en terme du score F1. On compare les résultats avec les arbres équivalents (avec le même nombre des observations minimales)\n",
    "\n",
    "**TODO : Analyser les résultats**\n",
    "- Comparer la performance (convergence et généralisation) des arbres et des forêts en terme du noombre des observations dans les feuilles\n",
    "- Justifier \n",
    "\n",
    "**Réponse**\n",
    "- On remarque que pour les deux modéle, la convergence et la généralisation diminuent avec l'augmentation des observations minimales dans les feuilles.\n",
    "- La performance des forêts est dépendante de la performance des ses arbres, et comme on a déja mentionné dans la partie des arbres, un grand nombre d'observations dans les feuilles conduit vers un sous-apprentissage (underfitting) sur les données."
   ]
  },
  {
   "cell_type": "code",
   "execution_count": 12,
   "metadata": {},
   "outputs": [
    {
     "data": {
      "image/png": "[encoded data removed]",
      "text/plain": [
       "<Figure size 432x288 with 1 Axes>"
      ]
     },
     "metadata": {
      "needs_background": "light"
     },
     "output_type": "display_data"
    }
   ],
   "source": [
    "f1_train_mf_foret = []\n",
    "f1_test_mf_foret = []\n",
    "for min_feuille in MIN_FEUILLE_lst:\n",
    "    classifieur = RandomForestClassifier(n_estimators=40, min_samples_leaf=min_feuille)\n",
    "    classifieur.fit(X_cars_train, Y_cars_train)\n",
    "    f1_train_mf_foret.append(f1_score(Y_cars_train, classifieur.predict(X_cars_train), average=\"micro\"))\n",
    "    f1_test_mf_foret.append(f1_score(Y_cars_test, classifieur.predict(X_cars_test), average=\"micro\"))\n",
    "\n",
    "plt.plot(MIN_FEUILLE_lst, f1_train_mf_foret, color=\"blue\", label=\"Convergence (Foret)\")\n",
    "plt.plot(MIN_FEUILLE_lst, f1_test_mf_foret, color=\"red\", label=\"Test (Foret)\")\n",
    "plt.plot(MIN_FEUILLE_lst, f1_train_mf, color=\"green\", label=\"Convergence (Arbre)\")\n",
    "plt.plot(MIN_FEUILLE_lst, f1_test_mf, color=\"orange\", label=\"Test (Arbre)\")\n",
    "plt.ylabel(\"F1\")\n",
    "plt.xlabel(\"Observations minimales dans les feuilles\")\n",
    "plt.legend()\n",
    "#plt.rcParams[\"figure.figsize\"] = (3,7)\n",
    "plt.show()"
   ]
  },
  {
   "cell_type": "markdown",
   "metadata": {},
   "source": [
    "#### II.2.4. Taille d'un Bootstrap\n",
    "\n",
    "Ici, on définit un pourcentage de la taille des Bootstrap par rapport la taille initiale du dataset. Pour chaque pourcentage, on entraîne un forêt et on test sa performance (convergence et généralisation) en utilisant la mesure F1.\n",
    "\n",
    "**TODO : Analyser les résultats**\n",
    "- Que remarquez-vous ?\n",
    "- Quelle est la raison pour laquelle la performance n'augmente pas d'une manière lisse ?\n",
    "\n",
    "**Réponse**\n",
    "- On remarque que lorsque le pourcentage de la taille du bootstrap par rapport à la taille initiale du dataset augmente , la performance (convergence et généralisation) augmente aussi mais d'une manière qui n'est pas lisse .\n",
    "- La performance augmente mais dans une courbe remplie d'oscillations,cela s'explique par le fait que l'augmentation du nombre d'arbres ne signifie pas nécessairement que la performance de la forêt s'améliore.Et ceci revient au fait que le choix des observations se fait d'une maniére aléatoire(la nature de construction des forêt)."
   ]
  },
  {
   "cell_type": "code",
   "execution_count": 13,
   "metadata": {},
   "outputs": [
    {
     "data": {
      "image/png": "[encoded data removed]",
      "text/plain": [
       "<Figure size 432x288 with 1 Axes>"
      ]
     },
     "metadata": {
      "needs_background": "light"
     },
     "output_type": "display_data"
    }
   ],
   "source": [
    "POUR_OBS_lst = np.arange(0.1, 1, 0.01)\n",
    "\n",
    "f1_train_ech = []\n",
    "f1_test_ech = []\n",
    "for pour_obs in POUR_OBS_lst:\n",
    "    classifieur = RandomForestClassifier(n_estimators=40, max_samples=pour_obs)\n",
    "    classifieur.fit(X_cars_train, Y_cars_train)\n",
    "    f1_train_ech.append(f1_score(Y_cars_train, classifieur.predict(X_cars_train), average=\"micro\"))\n",
    "    f1_test_ech.append(f1_score(Y_cars_test, classifieur.predict(X_cars_test), average=\"micro\"))\n",
    "\n",
    "plt.plot(POUR_OBS_lst, f1_train_ech, color=\"blue\", label=\"Convergence (Foret)\")\n",
    "plt.plot(POUR_OBS_lst, f1_test_ech, color=\"red\", label=\"Test (Foret)\")\n",
    "plt.ylabel(\"F1\")\n",
    "plt.xlabel(\"Pourcentage du bootstap par rapport le dataset originale\")\n",
    "plt.legend()\n",
    "#plt.rcParams[\"figure.figsize\"] = (3,7)\n",
    "plt.show()"
   ]
  },
  {
   "cell_type": "code",
   "execution_count": null,
   "metadata": {},
   "outputs": [],
   "source": []
  }
 ],
 "metadata": {
  "kernelspec": {
   "display_name": "Python 3",
   "language": "python",
   "name": "python3"
  },
  "language_info": {
   "codemirror_mode": {
    "name": "ipython",
    "version": 3
   },
   "file_extension": ".py",
   "mimetype": "text/x-python",
   "name": "python",
   "nbconvert_exporter": "python",
   "pygments_lexer": "ipython3",
   "version": "3.8.5"
  }
 },
 "nbformat": 4,
 "nbformat_minor": 2
}
